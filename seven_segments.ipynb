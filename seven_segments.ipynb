{
 "cells": [
  {
   "cell_type": "code",
   "execution_count": 32,
   "metadata": {},
   "outputs": [
    {
     "name": "stdout",
     "output_type": "stream",
     "text": [
      "1\n",
      "6\n",
      "234567\n",
      "000011"
     ]
    }
   ],
   "source": [
    "#code\n",
    "l=[6,2,5,5,4,5,6,3,7,5]\n",
    "t=int(input())\n",
    "while(t!=0):\n",
    "    t-=1\n",
    "    n=int(input())\n",
    "    s=input()\n",
    "    seg=0\n",
    "    for i in s:\n",
    "        seg+=l[int(i)]\n",
    "\n",
    "    i=0\n",
    "    c=[]\n",
    "    while(n-1>=1):\n",
    "        if(2*(n-1)<=(seg-l[i])<=7*(n-1)):\n",
    "            c.append(i)\n",
    "            seg-=l[i]\n",
    "            n-=1\n",
    "        else:\n",
    "            if not (2*(n-1)<=(seg-l[i])):\n",
    "                c.append(1)\n",
    "                seg-=2\n",
    "                n-=1\n",
    "            elif not((seg-l[i])<=7*(n-1)):\n",
    "                c.append(8)\n",
    "                seg-=7\n",
    "                n-=1\n",
    "    c.append(l.index(seg))\n",
    "    c.sort()\n",
    "    for i in c:\n",
    "        print(i,end=\"\")"
   ]
  },
  {
   "cell_type": "code",
   "execution_count": 22,
   "metadata": {},
   "outputs": [
    {
     "name": "stdout",
     "output_type": "stream",
     "text": [
      "120"
     ]
    }
   ],
   "source": [
    "l=[1,2,0]\n",
    "for i in l:\n",
    "    print(i,end=\"\")"
   ]
  },
  {
   "cell_type": "code",
   "execution_count": 15,
   "metadata": {},
   "outputs": [
    {
     "data": {
      "text/plain": [
       "[0, 1, 2]"
      ]
     },
     "execution_count": 15,
     "metadata": {},
     "output_type": "execute_result"
    }
   ],
   "source": [
    "l"
   ]
  },
  {
   "cell_type": "code",
   "execution_count": null,
   "metadata": {},
   "outputs": [],
   "source": []
  }
 ],
 "metadata": {
  "kernelspec": {
   "display_name": "Python 3",
   "language": "python",
   "name": "python3"
  },
  "language_info": {
   "codemirror_mode": {
    "name": "ipython",
    "version": 3
   },
   "file_extension": ".py",
   "mimetype": "text/x-python",
   "name": "python",
   "nbconvert_exporter": "python",
   "pygments_lexer": "ipython3",
   "version": "3.7.4"
  }
 },
 "nbformat": 4,
 "nbformat_minor": 2
}
