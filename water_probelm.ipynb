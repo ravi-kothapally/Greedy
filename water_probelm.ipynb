{
 "cells": [
  {
   "cell_type": "code",
   "execution_count": 43,
   "metadata": {},
   "outputs": [
    {
     "name": "stdout",
     "output_type": "stream",
     "text": [
      "9 6\n"
     ]
    }
   ],
   "source": [
    "n,p=map(int,input().split())\n",
    "l=[]\n",
    "for i in range(p):\n",
    "    l.append(list(map(int,input.split())))\n",
    "\n",
    "s=[x[0] for x in l]\n",
    "\n",
    "\n",
    "for i in range(p):\n",
    "    c=0\n",
    "    r=l[i][1]\n",
    "    while(True):\n",
    "        c+=1\n",
    "        if(r not in s):\n",
    "            break\n",
    "        r=l[s.index(r)][1]\n",
    "    l[i].append(c)\n",
    "    l[i].append(r)\n",
    "\n",
    "\n",
    "\n",
    "u=[x[4] for x in l]\n",
    "a=set(u)\n",
    "for i in a:\n",
    "    ma=-999999\n",
    "    inde=-1\n",
    "    for j in range(p):\n",
    "        if(i==l[j][4] and ma<l[j][3]):\n",
    "            ma=l[j][4]\n",
    "            inde=j\n",
    "    print(l[inde][0],\" \",l[inde][4],\" \",l[inde][2])"
   ]
  },
  {
   "cell_type": "code",
   "execution_count": 52,
   "metadata": {},
   "outputs": [
    {
     "data": {
      "text/plain": [
       "5"
      ]
     },
     "execution_count": 52,
     "metadata": {},
     "output_type": "execute_result"
    }
   ],
   "source": [
    "j"
   ]
  },
  {
   "cell_type": "code",
   "execution_count": null,
   "metadata": {},
   "outputs": [],
   "source": []
  }
 ],
 "metadata": {
  "kernelspec": {
   "display_name": "Python 3",
   "language": "python",
   "name": "python3"
  },
  "language_info": {
   "codemirror_mode": {
    "name": "ipython",
    "version": 3
   },
   "file_extension": ".py",
   "mimetype": "text/x-python",
   "name": "python",
   "nbconvert_exporter": "python",
   "pygments_lexer": "ipython3",
   "version": "3.7.4"
  }
 },
 "nbformat": 4,
 "nbformat_minor": 2
}
