{
 "cells": [
  {
   "cell_type": "code",
   "execution_count": 135,
   "metadata": {},
   "outputs": [
    {
     "data": {
      "text/plain": [
       "[[31, inf, inf, inf, inf],\n",
       " [inf, inf, inf, inf, inf],\n",
       " [inf, inf, inf, inf, inf],\n",
       " [inf, inf, inf, inf, inf],\n",
       " [inf, inf, inf, inf, inf]]"
      ]
     },
     "execution_count": 135,
     "metadata": {},
     "output_type": "execute_result"
    }
   ],
   "source": [
    "n=int(input())\n",
    "l=list(map(int,input().split()))\n",
    "l=[l[i:i+n] for i in range(0, n*n, n)]\n",
    "q=[]\n",
    "q.append((0,0))\n",
    "dis=[float(\"inf\")]*(n*n)\n",
    "dis=[dis[i:i+n] for i in range(0, n*n, n)]\n",
    "dis[0][0]=l[0][0]\n",
    "x=[-1,0,1,0]\n",
    "y=[0,-1,0,1]\n",
    "while(len(q)!=0):\n",
    "    a=q[0][0]\n",
    "    b=q[0][1]\n",
    "    q.pop(0)\n",
    "    for i in range(4):\n",
    "        x1=a+x[i]\n",
    "        y1=b+y[i]\n",
    "        if(0<=x1<n and 0<=y1<n and dis[x1][y1]>(dis[a][b]+l[x1][y1])):\n",
    "            dis[x1][y1]=(dis[a][b]+l[x1][y1])\n",
    "            q.append((x1,y1))\n",
    "print(dis[n-1][n-1])\n",
    "            \n",
    "\n",
    "\n",
    "\n"
   ]
  }
 ],
 "metadata": {
  "kernelspec": {
   "display_name": "Python 3",
   "language": "python",
   "name": "python3"
  },
  "language_info": {
   "codemirror_mode": {
    "name": "ipython",
    "version": 3
   },
   "file_extension": ".py",
   "mimetype": "text/x-python",
   "name": "python",
   "nbconvert_exporter": "python",
   "pygments_lexer": "ipython3",
   "version": "3.7.4"
  }
 },
 "nbformat": 4,
 "nbformat_minor": 2
}
